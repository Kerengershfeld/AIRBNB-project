{
 "cells": [
  {
   "cell_type": "markdown",
   "id": "4f6aca4d",
   "metadata": {},
   "source": [
    "# <center><code style=\"background:orange;color:white\">Boston AIRBNB Exploratory Data Analysis(EDA)</code></center>"
   ]
  },
  {
   "cell_type": "markdown",
   "id": "f0f2f755",
   "metadata": {},
   "source": [
    "## <code style=\"background:lightblue;color:white\">1.Introduction</code>  \n",
    "#### The datasets are about AIRBNB listings in Boston in the period 2016-2017."
   ]
  },
  {
   "cell_type": "markdown",
   "id": "ef7c885f",
   "metadata": {},
   "source": [
    "## <code style=\"background:lightblue;color:white\">2.Objectives</code>  \n",
    "\n",
    "#### 1.Conduct a general EDA and further understand boston AIRBNB datasets \n",
    "#### 2.Implemant machine learning models - UMAP and KPrototypes\n",
    "#### 3.Create visualisations"
   ]
  },
  {
   "cell_type": "markdown",
   "id": "33831578",
   "metadata": {},
   "source": [
    "## <code style=\"background:lightblue;color:white\">3.Preparation</code>  \n",
    "\n",
    "### 3.1 Loading The Libraries"
   ]
  },
  {
   "cell_type": "code",
   "execution_count": 1,
   "id": "098ed959",
   "metadata": {},
   "outputs": [],
   "source": [
    "import pandas as pd\n",
    "import numpy as np\n",
    "import datetime as dt\n",
    "import matplotlib.pyplot as plt\n",
    "import matplotlib.dates as mdates\n",
    "import umap\n",
    "from sklearn.preprocessing import MinMaxScaler\n",
    "from kmodes.kprototypes import KPrototypes"
   ]
  },
  {
   "cell_type": "markdown",
   "id": "4550e489-0442-470f-a8f8-61419aa9265f",
   "metadata": {
    "tags": []
   },
   "source": [
    "### 3.2 Specific Noteboook Parameters "
   ]
  },
  {
   "cell_type": "code",
   "execution_count": 2,
   "id": "582aeb8d",
   "metadata": {},
   "outputs": [],
   "source": [
    "pd.set_option('max_colwidth',400)"
   ]
  },
  {
   "cell_type": "markdown",
   "id": "95a78186",
   "metadata": {},
   "source": [
    "### 3.3 Loading The Data Sets"
   ]
  },
  {
   "cell_type": "code",
   "execution_count": 3,
   "id": "5b240dd2-7f1d-4d3f-979a-4b82e2c9e321",
   "metadata": {},
   "outputs": [],
   "source": [
    "airbnb_listings = pd.read_csv(r\"C:\\Users\\gersh\\Desktop\\for_my_first_job\\shecodes\\listings.csv\")\n",
    "airbnb_calendar = pd.read_csv(r\"C:\\Users\\gersh\\Desktop\\for_my_first_job\\shecodes\\calendar.csv\")"
   ]
  },
  {
   "cell_type": "markdown",
   "id": "b9bd1d44",
   "metadata": {},
   "source": [
    "### 3.4 Understanding the data "
   ]
  },
  {
   "cell_type": "code",
   "execution_count": 4,
   "id": "b09d48ea",
   "metadata": {},
   "outputs": [
    {
     "name": "stdout",
     "output_type": "stream",
     "text": [
      "The first dataset - airbnb_listings has 3585 rows and 17 columns\n",
      "The second dataset - airbnb_calendar has 915849 rows and 17 columns\n",
      "There are 3585 unique listings in the examined time period\n"
     ]
    }
   ],
   "source": [
    "unique_listings = airbnb_listings.id.nunique()\n",
    "print(f\"The first dataset - airbnb_listings has {airbnb_listings.shape[0]} rows and {airbnb_listings.shape[1]} columns\")\n",
    "print(f\"The second dataset - airbnb_calendar has {airbnb_calendar.shape[0]} rows and {airbnb_listings.shape[1]} columns\")\n",
    "print(f\"There are {unique_listings} unique listings in the examined time period\")"
   ]
  },
  {
   "cell_type": "code",
   "execution_count": 5,
   "id": "ceb7ae68",
   "metadata": {},
   "outputs": [
    {
     "data": {
      "text/html": [
       "<div>\n",
       "<style scoped>\n",
       "    .dataframe tbody tr th:only-of-type {\n",
       "        vertical-align: middle;\n",
       "    }\n",
       "\n",
       "    .dataframe tbody tr th {\n",
       "        vertical-align: top;\n",
       "    }\n",
       "\n",
       "    .dataframe thead th {\n",
       "        text-align: right;\n",
       "    }\n",
       "</style>\n",
       "<table border=\"1\" class=\"dataframe\">\n",
       "  <thead>\n",
       "    <tr style=\"text-align: right;\">\n",
       "      <th></th>\n",
       "      <th>id</th>\n",
       "      <th>summary</th>\n",
       "      <th>host_is_superhost</th>\n",
       "      <th>host_since</th>\n",
       "      <th>host_response_time</th>\n",
       "      <th>neighbourhood</th>\n",
       "      <th>reviews_per_month</th>\n",
       "      <th>property_type</th>\n",
       "      <th>beds</th>\n",
       "      <th>review_scores_rating</th>\n",
       "      <th>review_scores_accuracy</th>\n",
       "      <th>review_scores_cleanliness</th>\n",
       "      <th>review_scores_checkin</th>\n",
       "      <th>review_scores_communication</th>\n",
       "      <th>review_scores_location</th>\n",
       "      <th>review_scores_value</th>\n",
       "      <th>price_dollars</th>\n",
       "    </tr>\n",
       "  </thead>\n",
       "  <tbody>\n",
       "    <tr>\n",
       "      <th>1744</th>\n",
       "      <td>2167993</td>\n",
       "      <td>A fully renovated and furnished one bedroom 716 SF condo at the Historic Boston/Charlestown Navy Yard, minutes walk from the Freedom Trail, the USS Constitution, 15 minutes walk to downtown Boston, Cambridge. Public transportation on site</td>\n",
       "      <td>t</td>\n",
       "      <td>13/12/2010</td>\n",
       "      <td>within a few hours</td>\n",
       "      <td>Charlestown</td>\n",
       "      <td>1.76</td>\n",
       "      <td>Apartment</td>\n",
       "      <td>1.0</td>\n",
       "      <td>99.0</td>\n",
       "      <td>10.0</td>\n",
       "      <td>10.0</td>\n",
       "      <td>10.0</td>\n",
       "      <td>10.0</td>\n",
       "      <td>9.0</td>\n",
       "      <td>10.0</td>\n",
       "      <td>149</td>\n",
       "    </tr>\n",
       "  </tbody>\n",
       "</table>\n",
       "</div>"
      ],
      "text/plain": [
       "           id  \\\n",
       "1744  2167993   \n",
       "\n",
       "                                                                                                                                                                                                                                             summary  \\\n",
       "1744  A fully renovated and furnished one bedroom 716 SF condo at the Historic Boston/Charlestown Navy Yard, minutes walk from the Freedom Trail, the USS Constitution, 15 minutes walk to downtown Boston, Cambridge. Public transportation on site   \n",
       "\n",
       "     host_is_superhost  host_since  host_response_time neighbourhood  \\\n",
       "1744                 t  13/12/2010  within a few hours   Charlestown   \n",
       "\n",
       "      reviews_per_month property_type  beds  review_scores_rating  \\\n",
       "1744               1.76     Apartment   1.0                  99.0   \n",
       "\n",
       "      review_scores_accuracy  review_scores_cleanliness  \\\n",
       "1744                    10.0                       10.0   \n",
       "\n",
       "      review_scores_checkin  review_scores_communication  \\\n",
       "1744                   10.0                         10.0   \n",
       "\n",
       "      review_scores_location  review_scores_value  price_dollars  \n",
       "1744                     9.0                 10.0            149  "
      ]
     },
     "execution_count": 5,
     "metadata": {},
     "output_type": "execute_result"
    }
   ],
   "source": [
    "airbnb_listings.sample(1)"
   ]
  },
  {
   "cell_type": "code",
   "execution_count": 6,
   "id": "8616dc79",
   "metadata": {},
   "outputs": [
    {
     "data": {
      "text/html": [
       "<div>\n",
       "<style scoped>\n",
       "    .dataframe tbody tr th:only-of-type {\n",
       "        vertical-align: middle;\n",
       "    }\n",
       "\n",
       "    .dataframe tbody tr th {\n",
       "        vertical-align: top;\n",
       "    }\n",
       "\n",
       "    .dataframe thead th {\n",
       "        text-align: right;\n",
       "    }\n",
       "</style>\n",
       "<table border=\"1\" class=\"dataframe\">\n",
       "  <thead>\n",
       "    <tr style=\"text-align: right;\">\n",
       "      <th></th>\n",
       "      <th>listing_id</th>\n",
       "      <th>date</th>\n",
       "      <th>price_dollars</th>\n",
       "      <th>available_category</th>\n",
       "    </tr>\n",
       "  </thead>\n",
       "  <tbody>\n",
       "    <tr>\n",
       "      <th>209139</th>\n",
       "      <td>9614024</td>\n",
       "      <td>12/06/2017</td>\n",
       "      <td>NaN</td>\n",
       "      <td>0</td>\n",
       "    </tr>\n",
       "    <tr>\n",
       "      <th>592539</th>\n",
       "      <td>14468407</td>\n",
       "      <td>29/08/2017</td>\n",
       "      <td>$90.00</td>\n",
       "      <td>1</td>\n",
       "    </tr>\n",
       "    <tr>\n",
       "      <th>396376</th>\n",
       "      <td>14885796</td>\n",
       "      <td>26/07/2017</td>\n",
       "      <td>NaN</td>\n",
       "      <td>0</td>\n",
       "    </tr>\n",
       "    <tr>\n",
       "      <th>433720</th>\n",
       "      <td>7109689</td>\n",
       "      <td>08/03/2017</td>\n",
       "      <td>$600.00</td>\n",
       "      <td>1</td>\n",
       "    </tr>\n",
       "    <tr>\n",
       "      <th>688989</th>\n",
       "      <td>9607296</td>\n",
       "      <td>23/05/2017</td>\n",
       "      <td>$100.00</td>\n",
       "      <td>1</td>\n",
       "    </tr>\n",
       "    <tr>\n",
       "      <th>86046</th>\n",
       "      <td>12209652</td>\n",
       "      <td>27/02/2017</td>\n",
       "      <td>$500.00</td>\n",
       "      <td>1</td>\n",
       "    </tr>\n",
       "    <tr>\n",
       "      <th>83810</th>\n",
       "      <td>1167221</td>\n",
       "      <td>16/09/2016</td>\n",
       "      <td>$106.00</td>\n",
       "      <td>1</td>\n",
       "    </tr>\n",
       "    <tr>\n",
       "      <th>501358</th>\n",
       "      <td>14572100</td>\n",
       "      <td>07/12/2016</td>\n",
       "      <td>NaN</td>\n",
       "      <td>0</td>\n",
       "    </tr>\n",
       "    <tr>\n",
       "      <th>755869</th>\n",
       "      <td>13374617</td>\n",
       "      <td>23/07/2017</td>\n",
       "      <td>$31.00</td>\n",
       "      <td>1</td>\n",
       "    </tr>\n",
       "    <tr>\n",
       "      <th>459961</th>\n",
       "      <td>10119075</td>\n",
       "      <td>24/08/2017</td>\n",
       "      <td>NaN</td>\n",
       "      <td>0</td>\n",
       "    </tr>\n",
       "  </tbody>\n",
       "</table>\n",
       "</div>"
      ],
      "text/plain": [
       "        listing_id        date price_dollars  available_category\n",
       "209139     9614024  12/06/2017           NaN                   0\n",
       "592539    14468407  29/08/2017        $90.00                   1\n",
       "396376    14885796  26/07/2017           NaN                   0\n",
       "433720     7109689  08/03/2017       $600.00                   1\n",
       "688989     9607296  23/05/2017       $100.00                   1\n",
       "86046     12209652  27/02/2017       $500.00                   1\n",
       "83810      1167221  16/09/2016       $106.00                   1\n",
       "501358    14572100  07/12/2016           NaN                   0\n",
       "755869    13374617  23/07/2017        $31.00                   1\n",
       "459961    10119075  24/08/2017           NaN                   0"
      ]
     },
     "execution_count": 6,
     "metadata": {},
     "output_type": "execute_result"
    }
   ],
   "source": [
    "airbnb_calendar.sample(10)"
   ]
  },
  {
   "cell_type": "markdown",
   "id": "890b9210",
   "metadata": {},
   "source": [
    "#### Changing the names of 2 columns that are both named 'price_dollars' but do not share the same meaning"
   ]
  },
  {
   "cell_type": "code",
   "execution_count": 7,
   "id": "7dbda815",
   "metadata": {},
   "outputs": [],
   "source": [
    "airbnb_calendar = airbnb_calendar.rename(columns = {'price_dollars':'requested_price_dollars'})\n",
    "airbnb_listings = airbnb_listings.rename(columns = {'price_dollars':'price_specific_date_dollars'})"
   ]
  },
  {
   "cell_type": "markdown",
   "id": "7c59c803",
   "metadata": {},
   "source": [
    "#### Changing the column name 'listing_id' to 'id' for future merging with the other dataset"
   ]
  },
  {
   "cell_type": "code",
   "execution_count": 8,
   "id": "90aeff32",
   "metadata": {},
   "outputs": [],
   "source": [
    "airbnb_calendar = airbnb_calendar.rename(columns = {'listing_id':'id'})"
   ]
  },
  {
   "cell_type": "markdown",
   "id": "7260a2a7",
   "metadata": {},
   "source": [
    "### <code style=\"background:lightblue;color:white\">Data Dictionary</code>  \n",
    "\n",
    "#### airbnb_calendar\n",
    "* **id** - Unique identifier for each property.\n",
    "* **date** - Date identifier for a listing.\n",
    "* **requested_price_dollars** - The requested price for a specific listing on a specific date.\n",
    "* **available_category** - Indicator regarding the availability of a specific listing on a specific date (available_category = 1) means the listing was available for rental on a specific date but not one rented it , (available_category = 0) means the listing was available for rental and was rented.\n",
    "\n",
    "#### airbnb_listings\n",
    "* **id**  - Unique identifier for each property.\n",
    "* **summary** - Text string describing the property listed, written by the host.\n",
    "* **host_is_superhost** - Binary identifier whether the property owner has a superhost badge.values are T (True) or F (False).\n",
    "* **host_since** - Date indicating the initial listing of the property on AirBnb\n",
    "* **host_response_time** - Parameter indicating the average duration of a host's response time to a potential customer.\n",
    "* **neighbourhood** - The name of the specific neighborhood in boston the listing is located at.\n",
    "* **reviews_per_month** - The average amount of monthly reviews the listing receives.\n",
    "* **property_type** - Parameter indicating the type of the property listed.\n",
    "* **beds** - The amount of beds in the listed property.\n",
    "* **review_scores_rating** - The average rating of the listing ranging between 1-100\n",
    "* **review_scores_accuracy** - A score rating for the accuracy of the provided description of the property, ranging between 1-10\n",
    "* **review_scores_cleanliness** - A score rating for the cleanliness of the listed property,ranging between 1-10.\n",
    "* **review_scores_checkin** - A score rating for the checking-in experience in the listed property, ranging between 1-10.\n",
    "* **review_scores_communication** - A score rating for the communication experience with the listing host, ranging between 1-10.\n",
    "* **review_scores_location** - A score rating for the property location, ranging between 1-10.\n",
    "* **review_scores_value** - A score rating quantifying of the listing's cost-value,ranging between 1-10.\n",
    "* **price_specific_date_dollars** - The price paid for a specific listing on a specific date."
   ]
  },
  {
   "cell_type": "markdown",
   "id": "10ce5f9b-b6f4-4166-a5cd-b60d9f5534ac",
   "metadata": {},
   "source": [
    "### 3.5 Cleanup ###"
   ]
  },
  {
   "cell_type": "markdown",
   "id": "52885fcb-c32e-43f2-8a11-5a0ebc863848",
   "metadata": {},
   "source": [
    "#### 3.51 Null Values"
   ]
  },
  {
   "cell_type": "code",
   "execution_count": 9,
   "id": "5ca01ce5",
   "metadata": {},
   "outputs": [
    {
     "data": {
      "text/plain": [
       "id                             0.000\n",
       "summary                        0.040\n",
       "host_is_superhost              0.000\n",
       "host_since                     0.000\n",
       "host_response_time             0.131\n",
       "neighbourhood                  0.151\n",
       "reviews_per_month              0.211\n",
       "property_type                  0.001\n",
       "beds                           0.003\n",
       "review_scores_rating           0.227\n",
       "review_scores_accuracy         0.230\n",
       "review_scores_cleanliness      0.228\n",
       "review_scores_checkin          0.229\n",
       "review_scores_communication    0.228\n",
       "review_scores_location         0.229\n",
       "review_scores_value            0.229\n",
       "price_specific_date_dollars    0.000\n",
       "dtype: float64"
      ]
     },
     "execution_count": 9,
     "metadata": {},
     "output_type": "execute_result"
    }
   ],
   "source": [
    "round((airbnb_listings.isnull().sum())/len(airbnb_listings),3)"
   ]
  },
  {
   "cell_type": "markdown",
   "id": "72516a7a",
   "metadata": {},
   "source": [
    "#### Filling out the Null Values (0.3% of the values in column) in the beds column based on the summary column"
   ]
  },
  {
   "cell_type": "code",
   "execution_count": 10,
   "id": "dcc06b82",
   "metadata": {},
   "outputs": [],
   "source": [
    "airbnb_listings.beds = airbnb_listings.beds.fillna(1.0)"
   ]
  },
  {
   "cell_type": "code",
   "execution_count": 11,
   "id": "b37c2b8c",
   "metadata": {},
   "outputs": [
    {
     "data": {
      "text/plain": [
       "id                         0.000\n",
       "date                       0.000\n",
       "requested_price_dollars    0.509\n",
       "available_category         0.000\n",
       "dtype: float64"
      ]
     },
     "execution_count": 11,
     "metadata": {},
     "output_type": "execute_result"
    }
   ],
   "source": [
    "round((airbnb_calendar.isnull().sum())/len(airbnb_calendar),3)"
   ]
  },
  {
   "cell_type": "markdown",
   "id": "c80b868b",
   "metadata": {},
   "source": [
    "##### Percentage of rows that are NaN in the airbnb_calendar data "
   ]
  },
  {
   "cell_type": "code",
   "execution_count": 12,
   "id": "6af3471c-3d01-4e19-91f2-6b5eeb5e5db0",
   "metadata": {},
   "outputs": [
    {
     "name": "stdout",
     "output_type": "stream",
     "text": [
      "50.88% of values in the column 'requested_price_dollars' in the airbnb_calendar dataset are null values.\n",
      "That's because only listing that are available have a \"requested price\". \n"
     ]
    }
   ],
   "source": [
    "prices_requested_null = (len(airbnb_calendar.loc[airbnb_calendar[\"requested_price_dollars\"].isnull()])/len(airbnb_calendar))*100\n",
    "prices_requested_null = round(prices_requested_null,2)\n",
    "print(f\"\"\"{prices_requested_null}% of values in the column 'requested_price_dollars' in the airbnb_calendar dataset are null values.\n",
    "That's because only listing that are available have a \"requested price\". \"\"\")"
   ]
  },
  {
   "cell_type": "markdown",
   "id": "955b1b31",
   "metadata": {},
   "source": [
    "#### 3.52 Validating Datatypes"
   ]
  },
  {
   "cell_type": "code",
   "execution_count": 13,
   "id": "e80c2d7c",
   "metadata": {},
   "outputs": [
    {
     "name": "stdout",
     "output_type": "stream",
     "text": [
      "<class 'pandas.core.frame.DataFrame'>\n",
      "RangeIndex: 915849 entries, 0 to 915848\n",
      "Data columns (total 4 columns):\n",
      " #   Column                   Non-Null Count   Dtype \n",
      "---  ------                   --------------   ----- \n",
      " 0   id                       915849 non-null  int64 \n",
      " 1   date                     915849 non-null  object\n",
      " 2   requested_price_dollars  449850 non-null  object\n",
      " 3   available_category       915849 non-null  int64 \n",
      "dtypes: int64(2), object(2)\n",
      "memory usage: 27.9+ MB\n"
     ]
    }
   ],
   "source": [
    "airbnb_calendar.info()"
   ]
  },
  {
   "cell_type": "markdown",
   "id": "098c6619",
   "metadata": {},
   "source": [
    "#### Changing the datatype of column \"date\" from string to date"
   ]
  },
  {
   "cell_type": "code",
   "execution_count": 14,
   "id": "8d2df4a7",
   "metadata": {},
   "outputs": [],
   "source": [
    "airbnb_calendar[\"date\"] = pd.to_datetime(airbnb_calendar[\"date\"],dayfirst=True)"
   ]
  },
  {
   "cell_type": "markdown",
   "id": "13b1ddb2",
   "metadata": {},
   "source": [
    "#### Changing the datatype of column \"price_dollars\" from string to integar"
   ]
  },
  {
   "cell_type": "code",
   "execution_count": 15,
   "id": "8c875537",
   "metadata": {},
   "outputs": [],
   "source": [
    "airbnb_calendar[\"requested_price_dollars\"] = airbnb_calendar[\"requested_price_dollars\"].str[1:]\n",
    "airbnb_calendar[\"requested_price_dollars\"] = airbnb_calendar[\"requested_price_dollars\"].fillna(\"0\")\n",
    "airbnb_calendar[\"requested_price_dollars\"] = airbnb_calendar[\"requested_price_dollars\"].str.split(\".\",1).str[0]\n",
    "airbnb_calendar[\"requested_price_dollars\"] = airbnb_calendar[\"requested_price_dollars\"].str.replace(\",\",'')\n",
    "airbnb_calendar[\"requested_price_dollars\"] = airbnb_calendar[\"requested_price_dollars\"].replace(\"0\",np.nan)\n",
    "airbnb_calendar[\"requested_price_dollars\"] = pd.to_numeric(airbnb_calendar[\"requested_price_dollars\"])"
   ]
  },
  {
   "cell_type": "code",
   "execution_count": 16,
   "id": "03094e5a",
   "metadata": {},
   "outputs": [
    {
     "name": "stdout",
     "output_type": "stream",
     "text": [
      "<class 'pandas.core.frame.DataFrame'>\n",
      "RangeIndex: 3585 entries, 0 to 3584\n",
      "Data columns (total 17 columns):\n",
      " #   Column                       Non-Null Count  Dtype  \n",
      "---  ------                       --------------  -----  \n",
      " 0   id                           3585 non-null   int64  \n",
      " 1   summary                      3442 non-null   object \n",
      " 2   host_is_superhost            3585 non-null   object \n",
      " 3   host_since                   3585 non-null   object \n",
      " 4   host_response_time           3114 non-null   object \n",
      " 5   neighbourhood                3042 non-null   object \n",
      " 6   reviews_per_month            2829 non-null   float64\n",
      " 7   property_type                3582 non-null   object \n",
      " 8   beds                         3585 non-null   float64\n",
      " 9   review_scores_rating         2772 non-null   float64\n",
      " 10  review_scores_accuracy       2762 non-null   float64\n",
      " 11  review_scores_cleanliness    2767 non-null   float64\n",
      " 12  review_scores_checkin        2765 non-null   float64\n",
      " 13  review_scores_communication  2767 non-null   float64\n",
      " 14  review_scores_location       2763 non-null   float64\n",
      " 15  review_scores_value          2764 non-null   float64\n",
      " 16  price_specific_date_dollars  3585 non-null   int64  \n",
      "dtypes: float64(9), int64(2), object(6)\n",
      "memory usage: 476.3+ KB\n"
     ]
    }
   ],
   "source": [
    "airbnb_listings.info()"
   ]
  },
  {
   "cell_type": "markdown",
   "id": "25df00c6",
   "metadata": {},
   "source": [
    "#### Changing the datatype of column \"host_since\" from string to date"
   ]
  },
  {
   "cell_type": "code",
   "execution_count": 17,
   "id": "e32049d2",
   "metadata": {},
   "outputs": [],
   "source": [
    "airbnb_listings[\"host_since\"] = pd.to_datetime(airbnb_listings[\"host_since\"],dayfirst=True)"
   ]
  },
  {
   "cell_type": "markdown",
   "id": "018d407f",
   "metadata": {},
   "source": [
    "#### 3.53 Duplicate Rows"
   ]
  },
  {
   "cell_type": "code",
   "execution_count": 18,
   "id": "40bb980c",
   "metadata": {},
   "outputs": [
    {
     "data": {
      "text/plain": [
       "3585"
      ]
     },
     "execution_count": 18,
     "metadata": {},
     "output_type": "execute_result"
    }
   ],
   "source": [
    "len(airbnb_listings)"
   ]
  },
  {
   "cell_type": "code",
   "execution_count": 19,
   "id": "17d06ad3",
   "metadata": {},
   "outputs": [
    {
     "data": {
      "text/plain": [
       "id                             3585\n",
       "summary                        3113\n",
       "host_is_superhost                 2\n",
       "host_since                     1281\n",
       "host_response_time                4\n",
       "neighbourhood                    30\n",
       "reviews_per_month               644\n",
       "property_type                    13\n",
       "beds                             11\n",
       "review_scores_rating             48\n",
       "review_scores_accuracy            8\n",
       "review_scores_cleanliness         9\n",
       "review_scores_checkin             8\n",
       "review_scores_communication       7\n",
       "review_scores_location            9\n",
       "review_scores_value               9\n",
       "price_specific_date_dollars     324\n",
       "dtype: int64"
      ]
     },
     "execution_count": 19,
     "metadata": {},
     "output_type": "execute_result"
    }
   ],
   "source": [
    "airbnb_listings.nunique()"
   ]
  },
  {
   "cell_type": "code",
   "execution_count": 20,
   "id": "5fbe6e84",
   "metadata": {},
   "outputs": [
    {
     "name": "stdout",
     "output_type": "stream",
     "text": [
      "There are 329 listings that share the same summary\n"
     ]
    }
   ],
   "source": [
    "summary_duplicates = airbnb_listings[\"id\"].nunique()-airbnb_listings[\"summary\"].nunique()-airbnb_listings[\"summary\"].isnull().sum()\n",
    "print(f\"There are {summary_duplicates} listings that share the same summary\")"
   ]
  },
  {
   "cell_type": "markdown",
   "id": "56eae5b0",
   "metadata": {},
   "source": [
    "#### Exmaple of 2 unique listings who share the same summary"
   ]
  },
  {
   "cell_type": "code",
   "execution_count": 21,
   "id": "47485467",
   "metadata": {},
   "outputs": [
    {
     "data": {
      "text/html": [
       "<div>\n",
       "<style scoped>\n",
       "    .dataframe tbody tr th:only-of-type {\n",
       "        vertical-align: middle;\n",
       "    }\n",
       "\n",
       "    .dataframe tbody tr th {\n",
       "        vertical-align: top;\n",
       "    }\n",
       "\n",
       "    .dataframe thead th {\n",
       "        text-align: right;\n",
       "    }\n",
       "</style>\n",
       "<table border=\"1\" class=\"dataframe\">\n",
       "  <thead>\n",
       "    <tr style=\"text-align: right;\">\n",
       "      <th></th>\n",
       "      <th>id</th>\n",
       "      <th>summary</th>\n",
       "      <th>host_is_superhost</th>\n",
       "      <th>host_since</th>\n",
       "      <th>host_response_time</th>\n",
       "      <th>neighbourhood</th>\n",
       "      <th>reviews_per_month</th>\n",
       "      <th>property_type</th>\n",
       "      <th>beds</th>\n",
       "      <th>review_scores_rating</th>\n",
       "      <th>review_scores_accuracy</th>\n",
       "      <th>review_scores_cleanliness</th>\n",
       "      <th>review_scores_checkin</th>\n",
       "      <th>review_scores_communication</th>\n",
       "      <th>review_scores_location</th>\n",
       "      <th>review_scores_value</th>\n",
       "      <th>price_specific_date_dollars</th>\n",
       "    </tr>\n",
       "  </thead>\n",
       "  <tbody>\n",
       "    <tr>\n",
       "      <th>70</th>\n",
       "      <td>5601743</td>\n",
       "      <td>We are an artist collective who live in a cozy 2 family home in Jamaica Plain.., steps away from an orange line T stop! We are so excited to help travelers experience the BEST Boston has to offer: culture, comfort, and cooperative living:)</td>\n",
       "      <td>f</td>\n",
       "      <td>2014-08-01</td>\n",
       "      <td>within a few hours</td>\n",
       "      <td>Jamaica Plain</td>\n",
       "      <td>1.46</td>\n",
       "      <td>House</td>\n",
       "      <td>1.0</td>\n",
       "      <td>82.0</td>\n",
       "      <td>8.0</td>\n",
       "      <td>7.0</td>\n",
       "      <td>9.0</td>\n",
       "      <td>9.0</td>\n",
       "      <td>9.0</td>\n",
       "      <td>8.0</td>\n",
       "      <td>46</td>\n",
       "    </tr>\n",
       "    <tr>\n",
       "      <th>384</th>\n",
       "      <td>5293067</td>\n",
       "      <td>We are an artist collective who live in a cozy 2 family home in Jamaica Plain.., steps away from an orange line T stop! We are so excited to help travelers experience the BEST Boston has to offer: culture, comfort, and cooperative living:)</td>\n",
       "      <td>f</td>\n",
       "      <td>2014-08-01</td>\n",
       "      <td>within a few hours</td>\n",
       "      <td>Jamaica Plain</td>\n",
       "      <td>1.24</td>\n",
       "      <td>House</td>\n",
       "      <td>1.0</td>\n",
       "      <td>85.0</td>\n",
       "      <td>9.0</td>\n",
       "      <td>7.0</td>\n",
       "      <td>10.0</td>\n",
       "      <td>10.0</td>\n",
       "      <td>9.0</td>\n",
       "      <td>9.0</td>\n",
       "      <td>49</td>\n",
       "    </tr>\n",
       "  </tbody>\n",
       "</table>\n",
       "</div>"
      ],
      "text/plain": [
       "          id  \\\n",
       "70   5601743   \n",
       "384  5293067   \n",
       "\n",
       "                                                                                                                                                                                                                                             summary  \\\n",
       "70   We are an artist collective who live in a cozy 2 family home in Jamaica Plain.., steps away from an orange line T stop! We are so excited to help travelers experience the BEST Boston has to offer: culture, comfort, and cooperative living:)   \n",
       "384  We are an artist collective who live in a cozy 2 family home in Jamaica Plain.., steps away from an orange line T stop! We are so excited to help travelers experience the BEST Boston has to offer: culture, comfort, and cooperative living:)   \n",
       "\n",
       "    host_is_superhost host_since  host_response_time  neighbourhood  \\\n",
       "70                  f 2014-08-01  within a few hours  Jamaica Plain   \n",
       "384                 f 2014-08-01  within a few hours  Jamaica Plain   \n",
       "\n",
       "     reviews_per_month property_type  beds  review_scores_rating  \\\n",
       "70                1.46         House   1.0                  82.0   \n",
       "384               1.24         House   1.0                  85.0   \n",
       "\n",
       "     review_scores_accuracy  review_scores_cleanliness  review_scores_checkin  \\\n",
       "70                      8.0                        7.0                    9.0   \n",
       "384                     9.0                        7.0                   10.0   \n",
       "\n",
       "     review_scores_communication  review_scores_location  review_scores_value  \\\n",
       "70                           9.0                     9.0                  8.0   \n",
       "384                         10.0                     9.0                  9.0   \n",
       "\n",
       "     price_specific_date_dollars  \n",
       "70                            46  \n",
       "384                           49  "
      ]
     },
     "execution_count": 21,
     "metadata": {},
     "output_type": "execute_result"
    }
   ],
   "source": [
    "airbnb_listings.loc[airbnb_listings[\"summary\"]==\"We are an artist collective who live in a cozy 2 family home in Jamaica Plain.., steps away from an orange line T stop! We are so excited to help travelers experience the BEST Boston has to offer: culture, comfort, and cooperative living:)\"]"
   ]
  },
  {
   "cell_type": "code",
   "execution_count": 22,
   "id": "8cbb4759",
   "metadata": {},
   "outputs": [
    {
     "data": {
      "text/plain": [
       "915849"
      ]
     },
     "execution_count": 22,
     "metadata": {},
     "output_type": "execute_result"
    }
   ],
   "source": [
    "len(airbnb_calendar)"
   ]
  },
  {
   "cell_type": "code",
   "execution_count": 23,
   "id": "d83df299",
   "metadata": {},
   "outputs": [
    {
     "data": {
      "text/plain": [
       "id                         3585\n",
       "date                        365\n",
       "requested_price_dollars    1183\n",
       "available_category            2\n",
       "dtype: int64"
      ]
     },
     "execution_count": 23,
     "metadata": {},
     "output_type": "execute_result"
    }
   ],
   "source": [
    "airbnb_calendar.nunique()"
   ]
  },
  {
   "cell_type": "code",
   "execution_count": 24,
   "id": "14e4f659",
   "metadata": {},
   "outputs": [
    {
     "data": {
      "text/plain": [
       "1308525"
      ]
     },
     "execution_count": 24,
     "metadata": {},
     "output_type": "execute_result"
    }
   ],
   "source": [
    "3585*365"
   ]
  },
  {
   "cell_type": "markdown",
   "id": "d4c92cc9",
   "metadata": {},
   "source": [
    "**Conclusion** : NOT all listings are offered to stay at year round"
   ]
  },
  {
   "cell_type": "code",
   "execution_count": 25,
   "id": "96da578b",
   "metadata": {},
   "outputs": [
    {
     "data": {
      "text/plain": [
       "True"
      ]
     },
     "execution_count": 25,
     "metadata": {},
     "output_type": "execute_result"
    }
   ],
   "source": [
    "duplicated = airbnb_calendar[airbnb_calendar.duplicated()]\n",
    "airbnb_calendar.loc[(airbnb_calendar.date == '2017-06-15') & (airbnb_calendar.id == 12898806)]\n",
    "duplicated.loc[(airbnb_calendar.id == 12898806)]\n",
    "len(duplicated) == len(duplicated.loc[(duplicated.id == 12898806)])"
   ]
  },
  {
   "cell_type": "markdown",
   "id": "77cc440a",
   "metadata": {},
   "source": [
    "#### All the duplicated rows belong to one specific listing id - 12898806"
   ]
  },
  {
   "cell_type": "code",
   "execution_count": 26,
   "id": "61f05727",
   "metadata": {},
   "outputs": [],
   "source": [
    "airbnb_calendar.drop_duplicates(inplace= True)"
   ]
  },
  {
   "cell_type": "code",
   "execution_count": 27,
   "id": "f7c9306e",
   "metadata": {},
   "outputs": [
    {
     "name": "stdout",
     "output_type": "stream",
     "text": [
      "After removing the duplicated rows, the airbnb_calendar now has 915684 rows\n"
     ]
    }
   ],
   "source": [
    " print(f\"After removing the duplicated rows, the airbnb_calendar now has {len(airbnb_calendar)} rows\")"
   ]
  },
  {
   "cell_type": "markdown",
   "id": "306490a6",
   "metadata": {},
   "source": [
    "# <code style=\"background:lightblue;color:white\">The Actual Analysis</code>  \n",
    "### What’s the business growth trend ? \n",
    "#### Using the metric of the cumulative listings that were added to Airbnb over the years."
   ]
  },
  {
   "cell_type": "code",
   "execution_count": 28,
   "id": "9b250e53",
   "metadata": {},
   "outputs": [
    {
     "data": {
      "image/png": "[encoded data removed]",
      "text/plain": [
       "<Figure size 432x288 with 1 Axes>"
      ]
     },
     "metadata": {
      "needs_background": "light"
     },
     "output_type": "display_data"
    }
   ],
   "source": [
    "business_growth = airbnb_listings[['id','host_since','neighbourhood']]\n",
    "business_growth = business_growth.sort_values('host_since')\n",
    "business_growth_host_since = business_growth.groupby('host_since')['id'].count().reset_index()\n",
    "business_growth_host_since['cumsum_listings'] = business_growth_host_since['id'].cumsum(axis = 0)\n",
    "business_growth_host_since['rolling_cumsum_listings'] = business_growth_host_since['cumsum_listings'].rolling(7).mean()\n",
    "plt.plot(business_growth_host_since.host_since,business_growth_host_since.rolling_cumsum_listings,color = '#783937FF',linewidth =2)\n",
    "plt.xlabel('Years')\n",
    "plt.ylabel('Cumulative Listings')\n",
    "plt.title(\"AIRBNB's business growth over the years\",fontweight=\"bold\",fontsize=15)\n",
    "plt.show()"
   ]
  },
  {
   "cell_type": "markdown",
   "id": "6f6f5d42",
   "metadata": {},
   "source": [
    "conclusion: "
   ]
  },
  {
   "cell_type": "markdown",
   "id": "e871e377",
   "metadata": {},
   "source": [
    "#### Pie chart of superhosts "
   ]
  },
  {
   "cell_type": "code",
   "execution_count": 29,
   "id": "b4799fe6",
   "metadata": {
    "scrolled": true
   },
   "outputs": [
    {
     "data": {
      "image/png": "[encoded data removed]",
      "text/plain": [
       "<Figure size 432x288 with 1 Axes>"
      ]
     },
     "metadata": {},
     "output_type": "display_data"
    }
   ],
   "source": [
    "host = airbnb_listings.host_is_superhost.value_counts(normalize=True)\n",
    "colors = ['#FFA351FF','#FFBE7BFF']\n",
    "labels = ['NOT Superhost','Superhost']\n",
    "plt.pie(host,labels = labels,colors = colors,autopct='%.1f%%',shadow = True,pctdistance = 1.7,labeldistance=1.2)\n",
    "plt.title(\"Distribution Of Hosts\",fontweight=\"bold\",fontsize = 13)\n",
    "plt.axis(\"equal\")\n",
    "plt.show()"
   ]
  },
  {
   "cell_type": "markdown",
   "id": "a368c371",
   "metadata": {},
   "source": [
    "#### *Conclusion* : Most of the hosts do not have the badge of superhost"
   ]
  },
  {
   "cell_type": "markdown",
   "id": "9b558db4",
   "metadata": {},
   "source": [
    "type of listings"
   ]
  },
  {
   "cell_type": "code",
   "execution_count": 30,
   "id": "2d446b52",
   "metadata": {},
   "outputs": [
    {
     "data": {
      "text/plain": [
       "<AxesSubplot:title={'center':'Distribution of listings types'}>"
      ]
     },
     "execution_count": 30,
     "metadata": {},
     "output_type": "execute_result"
    },
    {
     "data": {
      "image/png": "[encoded data removed]",
      "text/plain": [
       "<Figure size 432x288 with 1 Axes>"
      ]
     },
     "metadata": {
      "needs_background": "light"
     },
     "output_type": "display_data"
    }
   ],
   "source": [
    "airbnb_listings.property_type.value_counts().sort_values().plot(kind = 'bar',title = 'Distribution of listings types',color = 'lightblue')"
   ]
  },
  {
   "cell_type": "markdown",
   "id": "296856b7",
   "metadata": {},
   "source": [
    "#### Who are the 5 most expensive neighborhoods in Boston ?"
   ]
  },
  {
   "cell_type": "code",
   "execution_count": 31,
   "id": "a165ed4a",
   "metadata": {},
   "outputs": [
    {
     "data": {
      "image/png": "[encoded data removed]",
      "text/plain": [
       "<Figure size 432x288 with 1 Axes>"
      ]
     },
     "metadata": {
      "needs_background": "light"
     },
     "output_type": "display_data"
    }
   ],
   "source": [
    "prices_by_neighbourhoods = airbnb_listings.groupby(\"neighbourhood\")[\"price_specific_date_dollars\"].mean().reset_index()\n",
    "prices_by_neighbourhoods = prices_by_neighbourhoods.sort_values('price_specific_date_dollars',ascending = False,ignore_index=True)\n",
    "prices_by_neighbourhoods = prices_by_neighbourhoods.rename(columns = {'price_specific_date_dollars':'avg_price_dollars'})\n",
    "plt.barh(prices_by_neighbourhoods.neighbourhood[0:5],prices_by_neighbourhoods.avg_price_dollars[0:5],color='lightblue')\n",
    "plt.xlabel(\"average price\")\n",
    "plt.ylabel(\"neighbourhood\")\n",
    "plt.title(\"Top 5 Most Expensive Neighbourhoods\")\n",
    "plt.show()"
   ]
  },
  {
   "cell_type": "code",
   "execution_count": 32,
   "id": "d3bb0803",
   "metadata": {},
   "outputs": [
    {
     "name": "stdout",
     "output_type": "stream",
     "text": [
      "The most expensive neighbourhood in Boston is Harvard Square and it costs $359.0.\n",
      "The cheapest neighbourhood in Boston is Chestnut Hill and it costs $70.75.\n"
     ]
    }
   ],
   "source": [
    "most_expensive_neighbourhood_price = max(prices_by_neighbourhoods['avg_price_dollars'])\n",
    "most_expensive_neighbourhood = prices_by_neighbourhoods.loc[prices_by_neighbourhoods['avg_price_dollars'] == most_expensive_neighbourhood_price,\"neighbourhood\"].iloc[0]\n",
    "cheapest_neighbourhood_price = min(prices_by_neighbourhoods['avg_price_dollars'])\n",
    "cheapest_neighbourhood = prices_by_neighbourhoods.loc[prices_by_neighbourhoods['avg_price_dollars'] == cheapest_neighbourhood_price,\"neighbourhood\"].iloc[0]\n",
    "print(f\"The most expensive neighbourhood in Boston is {most_expensive_neighbourhood} and it costs ${most_expensive_neighbourhood_price}.\")\n",
    "print(f\"The cheapest neighbourhood in Boston is {cheapest_neighbourhood} and it costs ${cheapest_neighbourhood_price}.\")"
   ]
  },
  {
   "cell_type": "markdown",
   "id": "83120088",
   "metadata": {},
   "source": [
    "#### Which neighbourhoods have the most listings? "
   ]
  },
  {
   "cell_type": "code",
   "execution_count": 33,
   "id": "4d92b813",
   "metadata": {},
   "outputs": [
    {
     "data": {
      "image/png": "[encoded data removed]",
      "text/plain": [
       "<Figure size 432x288 with 1 Axes>"
      ]
     },
     "metadata": {
      "needs_background": "light"
     },
     "output_type": "display_data"
    }
   ],
   "source": [
    "neighbourhoods = airbnb_listings[[\"neighbourhood\",\"id\"]]\n",
    "neighbourhoods_count = neighbourhoods.groupby(\"neighbourhood\").agg(\"count\").reset_index()\n",
    "neighbourhoods_count = neighbourhoods_count.rename(columns = {\"id\":\"listings_count\"})\n",
    "neighbourhoods_count = neighbourhoods_count.sort_values(by = \"listings_count\",ascending = False)\n",
    "neighbourhoods_count.head()\n",
    "plt.barh(neighbourhoods_count.neighbourhood,neighbourhoods_count.listings_count,color = 'lightgreen')\n",
    "plt.xlabel(\"amount of listings\")\n",
    "plt.ylabel(\"neighbourhood\")\n",
    "plt.title(\"Spatial Distribution Of Airbnb Listings In Boston\")\n",
    "plt.show()"
   ]
  },
  {
   "cell_type": "code",
   "execution_count": 34,
   "id": "7ee9f86b",
   "metadata": {},
   "outputs": [],
   "source": [
    "label_names = [\"Budget\",\"Average\",\"Expensive\",\"Extravagant\"]\n",
    "ranges = [0,117,200,245,np.inf]\n",
    "airbnb_listings[\"price_ranges\"] = pd.cut(airbnb_listings.price_specific_date_dollars,bins = ranges,\n",
    "                                                  labels = label_names)"
   ]
  },
  {
   "cell_type": "code",
   "execution_count": 35,
   "id": "9e64fbfa",
   "metadata": {},
   "outputs": [
    {
     "data": {
      "image/png": "[encoded data removed]",
      "text/plain": [
       "<Figure size 432x288 with 1 Axes>"
      ]
     },
     "metadata": {},
     "output_type": "display_data"
    }
   ],
   "source": [
    "price_ranges = airbnb_listings.price_ranges.value_counts(normalize=True)\n",
    "colors = ['#0091d4','#00b7c0','#5dcb66','#ffc229']\n",
    "labels = ['Budget','Average','Extravagant','Expensive']\n",
    "plt.pie(price_ranges,labels = labels,colors = colors,autopct='%1.f%%',shadow = True,pctdistance = 0.5,labeldistance=1.1)\n",
    "plt.title(\"Distribution Of Price Ranges\",fontweight=\"bold\",fontsize = 15)\n",
    "plt.axis(\"equal\")\n",
    "plt.rcParams[\"figure.figsize\"] = (5,5)\n",
    "plt.show()"
   ]
  },
  {
   "cell_type": "code",
   "execution_count": 36,
   "id": "bb741966",
   "metadata": {},
   "outputs": [
    {
     "data": {
      "image/png": "[encoded data removed]",
      "text/plain": [
       "<Figure size 360x360 with 1 Axes>"
      ]
     },
     "metadata": {
      "needs_background": "light"
     },
     "output_type": "display_data"
    }
   ],
   "source": [
    "all_neighbourhods = pd.merge(neighbourhoods_count,prices_by_neighbourhoods,how = \"left\",on = 'neighbourhood')\n",
    "plt.scatter(all_neighbourhods.listings_count,all_neighbourhods.avg_price_dollars)\n",
    "plt.xlabel(\"amount of listings in each neighbourhood\")\n",
    "plt.ylabel(\"average price in each neighbourhood\")\n",
    "plt.title(\"Relation Between Average Price And Amount Of Listings In Each Neighbourhood\")\n",
    "plt.show()"
   ]
  },
  {
   "cell_type": "markdown",
   "id": "0a90e5fe",
   "metadata": {},
   "source": [
    "It seems like there is no correlation between and the amount of listings in a neighbourhood and the average price of that neighbourhood.Probably because of other factors like how near it is to attractions."
   ]
  },
  {
   "cell_type": "code",
   "execution_count": 37,
   "id": "a1d005cc",
   "metadata": {},
   "outputs": [
    {
     "name": "stdout",
     "output_type": "stream",
     "text": [
      "The correlation between beds and price of the airbnb listings is 0.37\n"
     ]
    },
    {
     "data": {
      "image/png": "[encoded data removed]",
      "text/plain": [
       "<Figure size 360x360 with 1 Axes>"
      ]
     },
     "metadata": {
      "needs_background": "light"
     },
     "output_type": "display_data"
    }
   ],
   "source": [
    "print(f\"The correlation between beds and price of the airbnb listings is {round(airbnb_listings.beds.corr(airbnb_listings.price_specific_date_dollars),2)}\")\n",
    "plt.scatter(airbnb_listings.beds,airbnb_listings.price_specific_date_dollars)\n",
    "plt.show()"
   ]
  },
  {
   "cell_type": "markdown",
   "id": "33ca265d",
   "metadata": {},
   "source": [
    "#### There is no linear relation between amount of beds and price.For example,while most of the listing with 2 beds prices' are under 600 dollars, there is also listing with 2 beds that costs 4000 dollars."
   ]
  },
  {
   "cell_type": "markdown",
   "id": "f7ac0876",
   "metadata": {},
   "source": [
    "#### Occupancy Rate "
   ]
  },
  {
   "cell_type": "code",
   "execution_count": 38,
   "id": "581a7077",
   "metadata": {},
   "outputs": [
    {
     "data": {
      "text/html": [
       "<div>\n",
       "<style scoped>\n",
       "    .dataframe tbody tr th:only-of-type {\n",
       "        vertical-align: middle;\n",
       "    }\n",
       "\n",
       "    .dataframe tbody tr th {\n",
       "        vertical-align: top;\n",
       "    }\n",
       "\n",
       "    .dataframe thead th {\n",
       "        text-align: right;\n",
       "    }\n",
       "</style>\n",
       "<table border=\"1\" class=\"dataframe\">\n",
       "  <thead>\n",
       "    <tr style=\"text-align: right;\">\n",
       "      <th></th>\n",
       "      <th>date</th>\n",
       "      <th>amount_listed_rentals</th>\n",
       "      <th>amount_not_rented_listings</th>\n",
       "      <th>avg_price</th>\n",
       "      <th>availabilty_rate</th>\n",
       "      <th>rolling_avg_price</th>\n",
       "      <th>rolling_amount_listings</th>\n",
       "    </tr>\n",
       "  </thead>\n",
       "  <tbody>\n",
       "    <tr>\n",
       "      <th>173</th>\n",
       "      <td>2017-02-26</td>\n",
       "      <td>2532</td>\n",
       "      <td>1440</td>\n",
       "      <td>180.928472</td>\n",
       "      <td>0.568720</td>\n",
       "      <td>181.796937</td>\n",
       "      <td>2513.571429</td>\n",
       "    </tr>\n",
       "    <tr>\n",
       "      <th>96</th>\n",
       "      <td>2016-12-11</td>\n",
       "      <td>2535</td>\n",
       "      <td>1381</td>\n",
       "      <td>187.888487</td>\n",
       "      <td>0.544773</td>\n",
       "      <td>191.173241</td>\n",
       "      <td>2508.357143</td>\n",
       "    </tr>\n",
       "    <tr>\n",
       "      <th>337</th>\n",
       "      <td>2017-08-09</td>\n",
       "      <td>2520</td>\n",
       "      <td>1227</td>\n",
       "      <td>198.211899</td>\n",
       "      <td>0.486905</td>\n",
       "      <td>204.046878</td>\n",
       "      <td>2518.000000</td>\n",
       "    </tr>\n",
       "    <tr>\n",
       "      <th>281</th>\n",
       "      <td>2017-06-14</td>\n",
       "      <td>2523</td>\n",
       "      <td>1241</td>\n",
       "      <td>197.754230</td>\n",
       "      <td>0.491875</td>\n",
       "      <td>194.688658</td>\n",
       "      <td>2504.571429</td>\n",
       "    </tr>\n",
       "    <tr>\n",
       "      <th>297</th>\n",
       "      <td>2017-06-30</td>\n",
       "      <td>2517</td>\n",
       "      <td>1270</td>\n",
       "      <td>202.524409</td>\n",
       "      <td>0.504569</td>\n",
       "      <td>196.997163</td>\n",
       "      <td>2505.857143</td>\n",
       "    </tr>\n",
       "  </tbody>\n",
       "</table>\n",
       "</div>"
      ],
      "text/plain": [
       "          date  amount_listed_rentals  amount_not_rented_listings   avg_price  \\\n",
       "173 2017-02-26                   2532                        1440  180.928472   \n",
       "96  2016-12-11                   2535                        1381  187.888487   \n",
       "337 2017-08-09                   2520                        1227  198.211899   \n",
       "281 2017-06-14                   2523                        1241  197.754230   \n",
       "297 2017-06-30                   2517                        1270  202.524409   \n",
       "\n",
       "     availabilty_rate  rolling_avg_price  rolling_amount_listings  \n",
       "173          0.568720         181.796937              2513.571429  \n",
       "96           0.544773         191.173241              2508.357143  \n",
       "337          0.486905         204.046878              2518.000000  \n",
       "281          0.491875         194.688658              2504.571429  \n",
       "297          0.504569         196.997163              2505.857143  "
      ]
     },
     "execution_count": 38,
     "metadata": {},
     "output_type": "execute_result"
    }
   ],
   "source": [
    "airbnb_calendar = airbnb_calendar.sort_values([\"date\",\"id\"])\n",
    "airbnb_calendar.head(15)\n",
    "#occupancy_rate\n",
    "by_date = airbnb_calendar.groupby(\"date\").agg(amount_listed_rentals = (\"available_category\",'count'),\n",
    "                    amount_not_rented_listings=(\"available_category\",'sum'),\n",
    "                    avg_price=(\"requested_price_dollars\",\"mean\")).reset_index()\n",
    "by_date[\"availabilty_rate\"] = (by_date[\"amount_not_rented_listings\"]/by_date[\"amount_listed_rentals\"])\n",
    "by_date['rolling_avg_price'] = by_date['avg_price'].rolling(14).mean()\n",
    "by_date['rolling_amount_listings'] = by_date['amount_listed_rentals'].rolling(14).mean()\n",
    "by_date.sample(5)"
   ]
  },
  {
   "cell_type": "code",
   "execution_count": 39,
   "id": "5bf8d0cf",
   "metadata": {},
   "outputs": [
    {
     "data": {
      "image/png": "[encoded data removed]",
      "text/plain": [
       "<Figure size 360x360 with 2 Axes>"
      ]
     },
     "metadata": {
      "needs_background": "light"
     },
     "output_type": "display_data"
    }
   ],
   "source": [
    "fig,ax = plt.subplots()\n",
    "ax.plot(by_date.date, by_date.amount_not_rented_listings, color='#0091d4',linewidth=1.5)\n",
    "ax.set_xlabel('Date')\n",
    "ax.set_ylabel('Amount Of Available Listings',color = '#0091d4')\n",
    "ax.set_ylim(bottom=300)\n",
    "ax2 = ax.twinx()\n",
    "ax2.plot(by_date.date,by_date.avg_price, color='#ffc229',linewidth=1.5)\n",
    "ax2.set_ylim(bottom=150)\n",
    "ax2.set_ylabel('Average Price',color = '#ffc229')\n",
    "plt.title(\"Amount Of Available Listings VS Average Price\",fontweight=\"bold\",fontsize=15)\n",
    "plt.show()"
   ]
  },
  {
   "cell_type": "code",
   "execution_count": 40,
   "id": "1811b6f4",
   "metadata": {},
   "outputs": [
    {
     "name": "stdout",
     "output_type": "stream",
     "text": [
      "There are 136 listings that have not been rented in all the period they were being offred for rental\n",
      "The average of all reviews for those listings that have not been rented at are lower than the average reviews of all listings\n"
     ]
    }
   ],
   "source": [
    "available = airbnb_calendar.sort_values([\"id\",\"date\"])\n",
    "available = available.groupby(\"id\").agg(amount_days_not_rented=(\"available_category\",\"sum\"),amount_days_available_rent=(\"available_category\",\"count\")).reset_index()\n",
    "available[\"occupancy_rate\"] = 1- (available[\"amount_days_not_rented\"]/available[\"amount_days_available_rent\"])\n",
    "available.drop(['amount_days_not_rented','amount_days_available_rent'],axis = 1,inplace = True)\n",
    "available.head()\n",
    "# There are listings that are not being rented at all in the time they are being offered (2016-2017)\n",
    "not_rented = available[available.occupancy_rate == 0]\n",
    "print(f\"There are {not_rented.id.count()} listings that have not been rented in all the period they were being offred for rental\")\n",
    "not_rented_all_info = pd.merge(not_rented,airbnb_listings,on = \"id\")\n",
    "not_rented_all_info.review_scores_checkin.describe()\n",
    "airbnb_listings.review_scores_checkin.describe()\n",
    "print(\"The average of all reviews for those listings that have not been rented at are lower than the average reviews of all listings\")"
   ]
  },
  {
   "cell_type": "markdown",
   "id": "274f7481",
   "metadata": {},
   "source": [
    "#### Histogram of availability ratio"
   ]
  },
  {
   "cell_type": "code",
   "execution_count": 41,
   "id": "9389627e",
   "metadata": {},
   "outputs": [
    {
     "data": {
      "image/png": "[encoded data removed]",
      "text/plain": [
       "<Figure size 360x360 with 1 Axes>"
      ]
     },
     "metadata": {
      "needs_background": "light"
     },
     "output_type": "display_data"
    }
   ],
   "source": [
    "plt.hist(available.occupancy_rate,color='#00b7c0')\n",
    "plt.title(\"The occupancy rate of the listings\")\n",
    "plt.show()"
   ]
  },
  {
   "cell_type": "markdown",
   "id": "8816ea77",
   "metadata": {},
   "source": [
    "# Integrating machine learning elements: Clustering"
   ]
  },
  {
   "cell_type": "markdown",
   "id": "d31a7a8d",
   "metadata": {},
   "source": [
    "### Numeric Features \n",
    "* **Feature 1:** beds\n",
    "* **Feature 2:** price_specific_date\n",
    "* **Feature 3:** review scores value\n",
    "* **Feature 4:** reviews_per_month\n",
    "* **Feature 5:** review_scores_rating\n",
    "* **Feature 6:** review_scores_accuracy\t\n",
    "* **Feature 7:** review_scores_cleanliness\t\n",
    "* **Feature 8:** review_scores_checkin\t\n",
    "* **Feature 9:** review_scores_communication\n",
    "* **Feature 10:** review_scores_location\n",
    "* **Feature 11:** occupancy rate \n",
    "* **Feature 12:** property_age_years\n",
    "### Categorial Features\n",
    "* **Feature 1:** neighbourhood\n",
    "* **Feature 2:** property_type\n",
    "* **Feature 3:** host_is_superhost"
   ]
  },
  {
   "cell_type": "markdown",
   "id": "3eaf0015",
   "metadata": {},
   "source": [
    "### Clustering using Method: K-Prototypes (A mix between KModes and Kmeans methods)"
   ]
  },
  {
   "cell_type": "markdown",
   "id": "0642b87b",
   "metadata": {},
   "source": [
    "#### Creating numeric and categorial data for the umap (reducing dimensions)"
   ]
  },
  {
   "cell_type": "code",
   "execution_count": 42,
   "id": "a7f47bef",
   "metadata": {},
   "outputs": [
    {
     "data": {
      "text/html": [
       "<div>\n",
       "<style scoped>\n",
       "    .dataframe tbody tr th:only-of-type {\n",
       "        vertical-align: middle;\n",
       "    }\n",
       "\n",
       "    .dataframe tbody tr th {\n",
       "        vertical-align: top;\n",
       "    }\n",
       "\n",
       "    .dataframe thead th {\n",
       "        text-align: right;\n",
       "    }\n",
       "</style>\n",
       "<table border=\"1\" class=\"dataframe\">\n",
       "  <thead>\n",
       "    <tr style=\"text-align: right;\">\n",
       "      <th></th>\n",
       "      <th>id</th>\n",
       "      <th>reviews_per_month</th>\n",
       "      <th>beds</th>\n",
       "      <th>review_scores_rating</th>\n",
       "      <th>review_scores_accuracy</th>\n",
       "      <th>review_scores_cleanliness</th>\n",
       "      <th>review_scores_checkin</th>\n",
       "      <th>review_scores_communication</th>\n",
       "      <th>review_scores_location</th>\n",
       "      <th>review_scores_value</th>\n",
       "      <th>price_specific_date_dollars</th>\n",
       "      <th>occupancy_rate</th>\n",
       "      <th>property_age_years</th>\n",
       "    </tr>\n",
       "  </thead>\n",
       "  <tbody>\n",
       "    <tr>\n",
       "      <th>0</th>\n",
       "      <td>12147973</td>\n",
       "      <td>1.970908</td>\n",
       "      <td>3.0</td>\n",
       "      <td>91.916667</td>\n",
       "      <td>9.431571</td>\n",
       "      <td>9.258041</td>\n",
       "      <td>9.646293</td>\n",
       "      <td>9.646549</td>\n",
       "      <td>9.414043</td>\n",
       "      <td>9.168234</td>\n",
       "      <td>250</td>\n",
       "      <td>1.000000</td>\n",
       "      <td>7.0</td>\n",
       "    </tr>\n",
       "    <tr>\n",
       "      <th>1</th>\n",
       "      <td>3075044</td>\n",
       "      <td>1.300000</td>\n",
       "      <td>1.0</td>\n",
       "      <td>94.000000</td>\n",
       "      <td>10.000000</td>\n",
       "      <td>9.000000</td>\n",
       "      <td>10.000000</td>\n",
       "      <td>10.000000</td>\n",
       "      <td>9.000000</td>\n",
       "      <td>9.000000</td>\n",
       "      <td>65</td>\n",
       "      <td>0.016260</td>\n",
       "      <td>9.0</td>\n",
       "    </tr>\n",
       "    <tr>\n",
       "      <th>2</th>\n",
       "      <td>6976</td>\n",
       "      <td>0.470000</td>\n",
       "      <td>1.0</td>\n",
       "      <td>98.000000</td>\n",
       "      <td>10.000000</td>\n",
       "      <td>9.000000</td>\n",
       "      <td>10.000000</td>\n",
       "      <td>10.000000</td>\n",
       "      <td>9.000000</td>\n",
       "      <td>10.000000</td>\n",
       "      <td>65</td>\n",
       "      <td>0.143939</td>\n",
       "      <td>13.0</td>\n",
       "    </tr>\n",
       "    <tr>\n",
       "      <th>3</th>\n",
       "      <td>1436513</td>\n",
       "      <td>1.000000</td>\n",
       "      <td>2.0</td>\n",
       "      <td>100.000000</td>\n",
       "      <td>10.000000</td>\n",
       "      <td>10.000000</td>\n",
       "      <td>10.000000</td>\n",
       "      <td>10.000000</td>\n",
       "      <td>10.000000</td>\n",
       "      <td>10.000000</td>\n",
       "      <td>75</td>\n",
       "      <td>0.715356</td>\n",
       "      <td>9.0</td>\n",
       "    </tr>\n",
       "    <tr>\n",
       "      <th>4</th>\n",
       "      <td>7651065</td>\n",
       "      <td>2.250000</td>\n",
       "      <td>2.0</td>\n",
       "      <td>99.000000</td>\n",
       "      <td>10.000000</td>\n",
       "      <td>10.000000</td>\n",
       "      <td>10.000000</td>\n",
       "      <td>10.000000</td>\n",
       "      <td>9.000000</td>\n",
       "      <td>10.000000</td>\n",
       "      <td>79</td>\n",
       "      <td>0.078067</td>\n",
       "      <td>8.0</td>\n",
       "    </tr>\n",
       "  </tbody>\n",
       "</table>\n",
       "</div>"
      ],
      "text/plain": [
       "         id  reviews_per_month  beds  review_scores_rating  \\\n",
       "0  12147973           1.970908   3.0             91.916667   \n",
       "1   3075044           1.300000   1.0             94.000000   \n",
       "2      6976           0.470000   1.0             98.000000   \n",
       "3   1436513           1.000000   2.0            100.000000   \n",
       "4   7651065           2.250000   2.0             99.000000   \n",
       "\n",
       "   review_scores_accuracy  review_scores_cleanliness  review_scores_checkin  \\\n",
       "0                9.431571                   9.258041               9.646293   \n",
       "1               10.000000                   9.000000              10.000000   \n",
       "2               10.000000                   9.000000              10.000000   \n",
       "3               10.000000                  10.000000              10.000000   \n",
       "4               10.000000                  10.000000              10.000000   \n",
       "\n",
       "   review_scores_communication  review_scores_location  review_scores_value  \\\n",
       "0                     9.646549                9.414043             9.168234   \n",
       "1                    10.000000                9.000000             9.000000   \n",
       "2                    10.000000                9.000000            10.000000   \n",
       "3                    10.000000               10.000000            10.000000   \n",
       "4                    10.000000                9.000000            10.000000   \n",
       "\n",
       "   price_specific_date_dollars  occupancy_rate  property_age_years  \n",
       "0                          250        1.000000                 7.0  \n",
       "1                           65        0.016260                 9.0  \n",
       "2                           65        0.143939                13.0  \n",
       "3                           75        0.715356                 9.0  \n",
       "4                           79        0.078067                 8.0  "
      ]
     },
     "execution_count": 42,
     "metadata": {},
     "output_type": "execute_result"
    }
   ],
   "source": [
    "#### Creating the numeric features data ####\n",
    "data_ML_numeric = airbnb_listings.copy()\n",
    "data_ML_numeric = pd.merge(data_ML_numeric,available,on=\"id\")\n",
    "now = pd.Timestamp('now')\n",
    "data_ML_numeric['property_age_years'] = (now - data_ML_numeric['host_since']).astype('<m8[Y]') \n",
    "\n",
    "# dropping columns\n",
    "data_ML_numeric.drop([\"summary\",\"host_is_superhost\",\"neighbourhood\",\"property_type\",\"host_response_time\",\n",
    " \"host_since\",\"price_ranges\"],axis =1,inplace = True)\n",
    "\n",
    "# filling out all the na with average values\n",
    "def fill_na_with_mean(columns):\n",
    "    for column in columns:\n",
    "        if column[0] == 'r':\n",
    "            data_ML_numeric[column].fillna(data_ML_numeric[column].mean(),inplace = True)\n",
    "    return data_ML_numeric\n",
    "\n",
    "columns_list = data_ML_numeric.columns.to_list()\n",
    "\n",
    "data_ML_numeric = fill_na_with_mean(columns_list)\n",
    "data_ML_numeric.head(5)"
   ]
  },
  {
   "cell_type": "code",
   "execution_count": 43,
   "id": "4b63b330",
   "metadata": {},
   "outputs": [],
   "source": [
    "#### Creating the categorial features data  for kprototypes ####\n",
    "data_ML_categorial = airbnb_listings.copy()\n",
    "data_ML_categorial = data_ML_categorial[[\"host_is_superhost\",\"neighbourhood\",\"property_type\",\"id\"]]\n",
    "data_ML_categorial = data_ML_categorial.dropna()"
   ]
  },
  {
   "cell_type": "code",
   "execution_count": 44,
   "id": "895eed31",
   "metadata": {},
   "outputs": [
    {
     "data": {
      "text/html": [
       "<div>\n",
       "<style scoped>\n",
       "    .dataframe tbody tr th:only-of-type {\n",
       "        vertical-align: middle;\n",
       "    }\n",
       "\n",
       "    .dataframe tbody tr th {\n",
       "        vertical-align: top;\n",
       "    }\n",
       "\n",
       "    .dataframe thead th {\n",
       "        text-align: right;\n",
       "    }\n",
       "</style>\n",
       "<table border=\"1\" class=\"dataframe\">\n",
       "  <thead>\n",
       "    <tr style=\"text-align: right;\">\n",
       "      <th></th>\n",
       "      <th>id</th>\n",
       "      <th>Neighbourhood_Allston-Brighton</th>\n",
       "      <th>Neighbourhood_Back Bay</th>\n",
       "      <th>Neighbourhood_Beacon Hill</th>\n",
       "      <th>Neighbourhood_Brookline</th>\n",
       "      <th>Neighbourhood_Cambridge</th>\n",
       "      <th>Neighbourhood_Charlestown</th>\n",
       "      <th>Neighbourhood_Chestnut Hill</th>\n",
       "      <th>Neighbourhood_Chinatown</th>\n",
       "      <th>Neighbourhood_Dorchester</th>\n",
       "      <th>...</th>\n",
       "      <th>Property_Dorm</th>\n",
       "      <th>Property_Entire Floor</th>\n",
       "      <th>Property_Guesthouse</th>\n",
       "      <th>Property_House</th>\n",
       "      <th>Property_Loft</th>\n",
       "      <th>Property_Other</th>\n",
       "      <th>Property_Townhouse</th>\n",
       "      <th>Property_Villa</th>\n",
       "      <th>Superhost_f</th>\n",
       "      <th>Superhost_t</th>\n",
       "    </tr>\n",
       "  </thead>\n",
       "  <tbody>\n",
       "    <tr>\n",
       "      <th>0</th>\n",
       "      <td>12147973</td>\n",
       "      <td>0</td>\n",
       "      <td>0</td>\n",
       "      <td>0</td>\n",
       "      <td>0</td>\n",
       "      <td>0</td>\n",
       "      <td>0</td>\n",
       "      <td>0</td>\n",
       "      <td>0</td>\n",
       "      <td>0</td>\n",
       "      <td>...</td>\n",
       "      <td>0</td>\n",
       "      <td>0</td>\n",
       "      <td>0</td>\n",
       "      <td>1</td>\n",
       "      <td>0</td>\n",
       "      <td>0</td>\n",
       "      <td>0</td>\n",
       "      <td>0</td>\n",
       "      <td>1</td>\n",
       "      <td>0</td>\n",
       "    </tr>\n",
       "    <tr>\n",
       "      <th>1</th>\n",
       "      <td>3075044</td>\n",
       "      <td>0</td>\n",
       "      <td>0</td>\n",
       "      <td>0</td>\n",
       "      <td>0</td>\n",
       "      <td>0</td>\n",
       "      <td>0</td>\n",
       "      <td>0</td>\n",
       "      <td>0</td>\n",
       "      <td>0</td>\n",
       "      <td>...</td>\n",
       "      <td>0</td>\n",
       "      <td>0</td>\n",
       "      <td>0</td>\n",
       "      <td>0</td>\n",
       "      <td>0</td>\n",
       "      <td>0</td>\n",
       "      <td>0</td>\n",
       "      <td>0</td>\n",
       "      <td>1</td>\n",
       "      <td>0</td>\n",
       "    </tr>\n",
       "    <tr>\n",
       "      <th>2</th>\n",
       "      <td>6976</td>\n",
       "      <td>0</td>\n",
       "      <td>0</td>\n",
       "      <td>0</td>\n",
       "      <td>0</td>\n",
       "      <td>0</td>\n",
       "      <td>0</td>\n",
       "      <td>0</td>\n",
       "      <td>0</td>\n",
       "      <td>0</td>\n",
       "      <td>...</td>\n",
       "      <td>0</td>\n",
       "      <td>0</td>\n",
       "      <td>0</td>\n",
       "      <td>0</td>\n",
       "      <td>0</td>\n",
       "      <td>0</td>\n",
       "      <td>0</td>\n",
       "      <td>0</td>\n",
       "      <td>0</td>\n",
       "      <td>1</td>\n",
       "    </tr>\n",
       "    <tr>\n",
       "      <th>4</th>\n",
       "      <td>7651065</td>\n",
       "      <td>0</td>\n",
       "      <td>0</td>\n",
       "      <td>0</td>\n",
       "      <td>0</td>\n",
       "      <td>0</td>\n",
       "      <td>0</td>\n",
       "      <td>0</td>\n",
       "      <td>0</td>\n",
       "      <td>0</td>\n",
       "      <td>...</td>\n",
       "      <td>0</td>\n",
       "      <td>0</td>\n",
       "      <td>0</td>\n",
       "      <td>1</td>\n",
       "      <td>0</td>\n",
       "      <td>0</td>\n",
       "      <td>0</td>\n",
       "      <td>0</td>\n",
       "      <td>0</td>\n",
       "      <td>1</td>\n",
       "    </tr>\n",
       "    <tr>\n",
       "      <th>5</th>\n",
       "      <td>12386020</td>\n",
       "      <td>0</td>\n",
       "      <td>0</td>\n",
       "      <td>0</td>\n",
       "      <td>0</td>\n",
       "      <td>0</td>\n",
       "      <td>0</td>\n",
       "      <td>0</td>\n",
       "      <td>0</td>\n",
       "      <td>0</td>\n",
       "      <td>...</td>\n",
       "      <td>0</td>\n",
       "      <td>0</td>\n",
       "      <td>0</td>\n",
       "      <td>0</td>\n",
       "      <td>0</td>\n",
       "      <td>0</td>\n",
       "      <td>0</td>\n",
       "      <td>0</td>\n",
       "      <td>0</td>\n",
       "      <td>1</td>\n",
       "    </tr>\n",
       "  </tbody>\n",
       "</table>\n",
       "<p>5 rows × 45 columns</p>\n",
       "</div>"
      ],
      "text/plain": [
       "         id  Neighbourhood_Allston-Brighton  Neighbourhood_Back Bay  \\\n",
       "0  12147973                               0                       0   \n",
       "1   3075044                               0                       0   \n",
       "2      6976                               0                       0   \n",
       "4   7651065                               0                       0   \n",
       "5  12386020                               0                       0   \n",
       "\n",
       "   Neighbourhood_Beacon Hill  Neighbourhood_Brookline  \\\n",
       "0                          0                        0   \n",
       "1                          0                        0   \n",
       "2                          0                        0   \n",
       "4                          0                        0   \n",
       "5                          0                        0   \n",
       "\n",
       "   Neighbourhood_Cambridge  Neighbourhood_Charlestown  \\\n",
       "0                        0                          0   \n",
       "1                        0                          0   \n",
       "2                        0                          0   \n",
       "4                        0                          0   \n",
       "5                        0                          0   \n",
       "\n",
       "   Neighbourhood_Chestnut Hill  Neighbourhood_Chinatown  \\\n",
       "0                            0                        0   \n",
       "1                            0                        0   \n",
       "2                            0                        0   \n",
       "4                            0                        0   \n",
       "5                            0                        0   \n",
       "\n",
       "   Neighbourhood_Dorchester  ...  Property_Dorm  Property_Entire Floor  \\\n",
       "0                         0  ...              0                      0   \n",
       "1                         0  ...              0                      0   \n",
       "2                         0  ...              0                      0   \n",
       "4                         0  ...              0                      0   \n",
       "5                         0  ...              0                      0   \n",
       "\n",
       "   Property_Guesthouse  Property_House  Property_Loft  Property_Other  \\\n",
       "0                    0               1              0               0   \n",
       "1                    0               0              0               0   \n",
       "2                    0               0              0               0   \n",
       "4                    0               1              0               0   \n",
       "5                    0               0              0               0   \n",
       "\n",
       "   Property_Townhouse  Property_Villa  Superhost_f  Superhost_t  \n",
       "0                   0               0            1            0  \n",
       "1                   0               0            1            0  \n",
       "2                   0               0            0            1  \n",
       "4                   0               0            0            1  \n",
       "5                   0               0            0            1  \n",
       "\n",
       "[5 rows x 45 columns]"
      ]
     },
     "execution_count": 44,
     "metadata": {},
     "output_type": "execute_result"
    }
   ],
   "source": [
    "data_ML_categorial_umap = data_ML_categorial.copy()\n",
    "data_ML_neighbourhood = pd.get_dummies(data_ML_categorial_umap.neighbourhood,prefix = 'Neighbourhood')\n",
    "data_ML_property_type = pd.get_dummies(data_ML_categorial_umap.property_type,prefix = 'Property')\n",
    "data_ML_superhost = pd.get_dummies(data_ML_categorial_umap.host_is_superhost,prefix = 'Superhost')\n",
    "data_ML_categorial_umap = data_ML_categorial_umap.join([data_ML_neighbourhood,data_ML_property_type,data_ML_superhost])\n",
    "data_ML_categorial_umap.drop([\"host_is_superhost\",\"neighbourhood\",\"property_type\"],axis=1,inplace=True)\n",
    "data_ML_categorial_umap.head(5)"
   ]
  },
  {
   "cell_type": "code",
   "execution_count": 45,
   "id": "046b698e",
   "metadata": {},
   "outputs": [
    {
     "data": {
      "text/html": [
       "<div>\n",
       "<style scoped>\n",
       "    .dataframe tbody tr th:only-of-type {\n",
       "        vertical-align: middle;\n",
       "    }\n",
       "\n",
       "    .dataframe tbody tr th {\n",
       "        vertical-align: top;\n",
       "    }\n",
       "\n",
       "    .dataframe thead th {\n",
       "        text-align: right;\n",
       "    }\n",
       "</style>\n",
       "<table border=\"1\" class=\"dataframe\">\n",
       "  <thead>\n",
       "    <tr style=\"text-align: right;\">\n",
       "      <th></th>\n",
       "      <th>reviews_per_month</th>\n",
       "      <th>beds</th>\n",
       "      <th>review_scores_rating</th>\n",
       "      <th>review_scores_accuracy</th>\n",
       "      <th>review_scores_cleanliness</th>\n",
       "      <th>review_scores_checkin</th>\n",
       "      <th>review_scores_communication</th>\n",
       "      <th>review_scores_location</th>\n",
       "      <th>review_scores_value</th>\n",
       "      <th>price_specific_date_dollars</th>\n",
       "      <th>occupancy_rate</th>\n",
       "      <th>property_age_years</th>\n",
       "      <th>host_is_superhost</th>\n",
       "      <th>neighbourhood</th>\n",
       "      <th>property_type</th>\n",
       "    </tr>\n",
       "  </thead>\n",
       "  <tbody>\n",
       "    <tr>\n",
       "      <th>0</th>\n",
       "      <td>1.970908</td>\n",
       "      <td>3.0</td>\n",
       "      <td>91.916667</td>\n",
       "      <td>9.431571</td>\n",
       "      <td>9.258041</td>\n",
       "      <td>9.646293</td>\n",
       "      <td>9.646549</td>\n",
       "      <td>9.414043</td>\n",
       "      <td>9.168234</td>\n",
       "      <td>250</td>\n",
       "      <td>1.000000</td>\n",
       "      <td>7.0</td>\n",
       "      <td>f</td>\n",
       "      <td>Roslindale</td>\n",
       "      <td>House</td>\n",
       "    </tr>\n",
       "    <tr>\n",
       "      <th>1</th>\n",
       "      <td>1.300000</td>\n",
       "      <td>1.0</td>\n",
       "      <td>94.000000</td>\n",
       "      <td>10.000000</td>\n",
       "      <td>9.000000</td>\n",
       "      <td>10.000000</td>\n",
       "      <td>10.000000</td>\n",
       "      <td>9.000000</td>\n",
       "      <td>9.000000</td>\n",
       "      <td>65</td>\n",
       "      <td>0.016260</td>\n",
       "      <td>9.0</td>\n",
       "      <td>f</td>\n",
       "      <td>Roslindale</td>\n",
       "      <td>Apartment</td>\n",
       "    </tr>\n",
       "    <tr>\n",
       "      <th>2</th>\n",
       "      <td>0.470000</td>\n",
       "      <td>1.0</td>\n",
       "      <td>98.000000</td>\n",
       "      <td>10.000000</td>\n",
       "      <td>9.000000</td>\n",
       "      <td>10.000000</td>\n",
       "      <td>10.000000</td>\n",
       "      <td>9.000000</td>\n",
       "      <td>10.000000</td>\n",
       "      <td>65</td>\n",
       "      <td>0.143939</td>\n",
       "      <td>13.0</td>\n",
       "      <td>t</td>\n",
       "      <td>Roslindale</td>\n",
       "      <td>Apartment</td>\n",
       "    </tr>\n",
       "    <tr>\n",
       "      <th>3</th>\n",
       "      <td>2.250000</td>\n",
       "      <td>2.0</td>\n",
       "      <td>99.000000</td>\n",
       "      <td>10.000000</td>\n",
       "      <td>10.000000</td>\n",
       "      <td>10.000000</td>\n",
       "      <td>10.000000</td>\n",
       "      <td>9.000000</td>\n",
       "      <td>10.000000</td>\n",
       "      <td>79</td>\n",
       "      <td>0.078067</td>\n",
       "      <td>8.0</td>\n",
       "      <td>t</td>\n",
       "      <td>Roslindale</td>\n",
       "      <td>House</td>\n",
       "    </tr>\n",
       "    <tr>\n",
       "      <th>4</th>\n",
       "      <td>1.700000</td>\n",
       "      <td>1.0</td>\n",
       "      <td>100.000000</td>\n",
       "      <td>10.000000</td>\n",
       "      <td>10.000000</td>\n",
       "      <td>10.000000</td>\n",
       "      <td>10.000000</td>\n",
       "      <td>9.000000</td>\n",
       "      <td>10.000000</td>\n",
       "      <td>75</td>\n",
       "      <td>0.845865</td>\n",
       "      <td>6.0</td>\n",
       "      <td>t</td>\n",
       "      <td>Roslindale</td>\n",
       "      <td>Condominium</td>\n",
       "    </tr>\n",
       "  </tbody>\n",
       "</table>\n",
       "</div>"
      ],
      "text/plain": [
       "   reviews_per_month  beds  review_scores_rating  review_scores_accuracy  \\\n",
       "0           1.970908   3.0             91.916667                9.431571   \n",
       "1           1.300000   1.0             94.000000               10.000000   \n",
       "2           0.470000   1.0             98.000000               10.000000   \n",
       "3           2.250000   2.0             99.000000               10.000000   \n",
       "4           1.700000   1.0            100.000000               10.000000   \n",
       "\n",
       "   review_scores_cleanliness  review_scores_checkin  \\\n",
       "0                   9.258041               9.646293   \n",
       "1                   9.000000              10.000000   \n",
       "2                   9.000000              10.000000   \n",
       "3                  10.000000              10.000000   \n",
       "4                  10.000000              10.000000   \n",
       "\n",
       "   review_scores_communication  review_scores_location  review_scores_value  \\\n",
       "0                     9.646549                9.414043             9.168234   \n",
       "1                    10.000000                9.000000             9.000000   \n",
       "2                    10.000000                9.000000            10.000000   \n",
       "3                    10.000000                9.000000            10.000000   \n",
       "4                    10.000000                9.000000            10.000000   \n",
       "\n",
       "   price_specific_date_dollars  occupancy_rate  property_age_years  \\\n",
       "0                          250        1.000000                 7.0   \n",
       "1                           65        0.016260                 9.0   \n",
       "2                           65        0.143939                13.0   \n",
       "3                           79        0.078067                 8.0   \n",
       "4                           75        0.845865                 6.0   \n",
       "\n",
       "  host_is_superhost neighbourhood property_type  \n",
       "0                 f    Roslindale         House  \n",
       "1                 f    Roslindale     Apartment  \n",
       "2                 t    Roslindale     Apartment  \n",
       "3                 t    Roslindale         House  \n",
       "4                 t    Roslindale   Condominium  "
      ]
     },
     "execution_count": 45,
     "metadata": {},
     "output_type": "execute_result"
    }
   ],
   "source": [
    "data_ML_categorial_clusters = data_ML_categorial.copy()\n",
    "data_ML_clusters = pd.merge(data_ML_numeric,data_ML_categorial_clusters,on= \"id\")\n",
    "data_ML_clusters.drop(\"id\",axis=1,inplace=True)\n",
    "data_ML_clusters.head(5)"
   ]
  },
  {
   "cell_type": "code",
   "execution_count": 46,
   "id": "adba9004",
   "metadata": {},
   "outputs": [],
   "source": [
    "data_ML_umap = pd.merge(data_ML_numeric,data_ML_categorial_umap,on= \"id\")\n",
    "data_ML_umap.drop(\"id\",axis=1,inplace=True)"
   ]
  },
  {
   "cell_type": "code",
   "execution_count": 47,
   "id": "669bc0aa",
   "metadata": {},
   "outputs": [
    {
     "data": {
      "text/html": [
       "<div>\n",
       "<style scoped>\n",
       "    .dataframe tbody tr th:only-of-type {\n",
       "        vertical-align: middle;\n",
       "    }\n",
       "\n",
       "    .dataframe tbody tr th {\n",
       "        vertical-align: top;\n",
       "    }\n",
       "\n",
       "    .dataframe thead th {\n",
       "        text-align: right;\n",
       "    }\n",
       "</style>\n",
       "<table border=\"1\" class=\"dataframe\">\n",
       "  <thead>\n",
       "    <tr style=\"text-align: right;\">\n",
       "      <th></th>\n",
       "      <th>0</th>\n",
       "      <th>1</th>\n",
       "      <th>2</th>\n",
       "      <th>3</th>\n",
       "      <th>4</th>\n",
       "      <th>5</th>\n",
       "      <th>6</th>\n",
       "      <th>7</th>\n",
       "      <th>8</th>\n",
       "      <th>9</th>\n",
       "      <th>...</th>\n",
       "      <th>46</th>\n",
       "      <th>47</th>\n",
       "      <th>48</th>\n",
       "      <th>49</th>\n",
       "      <th>50</th>\n",
       "      <th>51</th>\n",
       "      <th>52</th>\n",
       "      <th>53</th>\n",
       "      <th>54</th>\n",
       "      <th>55</th>\n",
       "    </tr>\n",
       "  </thead>\n",
       "  <tbody>\n",
       "    <tr>\n",
       "      <th>0</th>\n",
       "      <td>0.102451</td>\n",
       "      <td>0.1875</td>\n",
       "      <td>0.898958</td>\n",
       "      <td>0.928946</td>\n",
       "      <td>0.907255</td>\n",
       "      <td>0.955787</td>\n",
       "      <td>0.941091</td>\n",
       "      <td>0.926755</td>\n",
       "      <td>0.896029</td>\n",
       "      <td>0.057789</td>\n",
       "      <td>...</td>\n",
       "      <td>0.0</td>\n",
       "      <td>0.0</td>\n",
       "      <td>0.0</td>\n",
       "      <td>1.0</td>\n",
       "      <td>0.0</td>\n",
       "      <td>0.0</td>\n",
       "      <td>0.0</td>\n",
       "      <td>0.0</td>\n",
       "      <td>1.0</td>\n",
       "      <td>0.0</td>\n",
       "    </tr>\n",
       "    <tr>\n",
       "      <th>1</th>\n",
       "      <td>0.067398</td>\n",
       "      <td>0.0625</td>\n",
       "      <td>0.925000</td>\n",
       "      <td>1.000000</td>\n",
       "      <td>0.875000</td>\n",
       "      <td>1.000000</td>\n",
       "      <td>1.000000</td>\n",
       "      <td>0.875000</td>\n",
       "      <td>0.875000</td>\n",
       "      <td>0.011307</td>\n",
       "      <td>...</td>\n",
       "      <td>0.0</td>\n",
       "      <td>0.0</td>\n",
       "      <td>0.0</td>\n",
       "      <td>0.0</td>\n",
       "      <td>0.0</td>\n",
       "      <td>0.0</td>\n",
       "      <td>0.0</td>\n",
       "      <td>0.0</td>\n",
       "      <td>1.0</td>\n",
       "      <td>0.0</td>\n",
       "    </tr>\n",
       "    <tr>\n",
       "      <th>2</th>\n",
       "      <td>0.024033</td>\n",
       "      <td>0.0625</td>\n",
       "      <td>0.975000</td>\n",
       "      <td>1.000000</td>\n",
       "      <td>0.875000</td>\n",
       "      <td>1.000000</td>\n",
       "      <td>1.000000</td>\n",
       "      <td>0.875000</td>\n",
       "      <td>1.000000</td>\n",
       "      <td>0.011307</td>\n",
       "      <td>...</td>\n",
       "      <td>0.0</td>\n",
       "      <td>0.0</td>\n",
       "      <td>0.0</td>\n",
       "      <td>0.0</td>\n",
       "      <td>0.0</td>\n",
       "      <td>0.0</td>\n",
       "      <td>0.0</td>\n",
       "      <td>0.0</td>\n",
       "      <td>0.0</td>\n",
       "      <td>1.0</td>\n",
       "    </tr>\n",
       "    <tr>\n",
       "      <th>3</th>\n",
       "      <td>0.117032</td>\n",
       "      <td>0.1250</td>\n",
       "      <td>0.987500</td>\n",
       "      <td>1.000000</td>\n",
       "      <td>1.000000</td>\n",
       "      <td>1.000000</td>\n",
       "      <td>1.000000</td>\n",
       "      <td>0.875000</td>\n",
       "      <td>1.000000</td>\n",
       "      <td>0.014824</td>\n",
       "      <td>...</td>\n",
       "      <td>0.0</td>\n",
       "      <td>0.0</td>\n",
       "      <td>0.0</td>\n",
       "      <td>1.0</td>\n",
       "      <td>0.0</td>\n",
       "      <td>0.0</td>\n",
       "      <td>0.0</td>\n",
       "      <td>0.0</td>\n",
       "      <td>0.0</td>\n",
       "      <td>1.0</td>\n",
       "    </tr>\n",
       "    <tr>\n",
       "      <th>4</th>\n",
       "      <td>0.088297</td>\n",
       "      <td>0.0625</td>\n",
       "      <td>1.000000</td>\n",
       "      <td>1.000000</td>\n",
       "      <td>1.000000</td>\n",
       "      <td>1.000000</td>\n",
       "      <td>1.000000</td>\n",
       "      <td>0.875000</td>\n",
       "      <td>1.000000</td>\n",
       "      <td>0.013819</td>\n",
       "      <td>...</td>\n",
       "      <td>0.0</td>\n",
       "      <td>0.0</td>\n",
       "      <td>0.0</td>\n",
       "      <td>0.0</td>\n",
       "      <td>0.0</td>\n",
       "      <td>0.0</td>\n",
       "      <td>0.0</td>\n",
       "      <td>0.0</td>\n",
       "      <td>0.0</td>\n",
       "      <td>1.0</td>\n",
       "    </tr>\n",
       "  </tbody>\n",
       "</table>\n",
       "<p>5 rows × 56 columns</p>\n",
       "</div>"
      ],
      "text/plain": [
       "         0       1         2         3         4         5         6   \\\n",
       "0  0.102451  0.1875  0.898958  0.928946  0.907255  0.955787  0.941091   \n",
       "1  0.067398  0.0625  0.925000  1.000000  0.875000  1.000000  1.000000   \n",
       "2  0.024033  0.0625  0.975000  1.000000  0.875000  1.000000  1.000000   \n",
       "3  0.117032  0.1250  0.987500  1.000000  1.000000  1.000000  1.000000   \n",
       "4  0.088297  0.0625  1.000000  1.000000  1.000000  1.000000  1.000000   \n",
       "\n",
       "         7         8         9   ...   46   47   48   49   50   51   52   53  \\\n",
       "0  0.926755  0.896029  0.057789  ...  0.0  0.0  0.0  1.0  0.0  0.0  0.0  0.0   \n",
       "1  0.875000  0.875000  0.011307  ...  0.0  0.0  0.0  0.0  0.0  0.0  0.0  0.0   \n",
       "2  0.875000  1.000000  0.011307  ...  0.0  0.0  0.0  0.0  0.0  0.0  0.0  0.0   \n",
       "3  0.875000  1.000000  0.014824  ...  0.0  0.0  0.0  1.0  0.0  0.0  0.0  0.0   \n",
       "4  0.875000  1.000000  0.013819  ...  0.0  0.0  0.0  0.0  0.0  0.0  0.0  0.0   \n",
       "\n",
       "    54   55  \n",
       "0  1.0  0.0  \n",
       "1  1.0  0.0  \n",
       "2  0.0  1.0  \n",
       "3  0.0  1.0  \n",
       "4  0.0  1.0  \n",
       "\n",
       "[5 rows x 56 columns]"
      ]
     },
     "execution_count": 47,
     "metadata": {},
     "output_type": "execute_result"
    }
   ],
   "source": [
    "# Transforming the numeric features so that they are in the same scale\n",
    "scaler = MinMaxScaler()\n",
    "scaler.fit(data_ML_umap)\n",
    "scaled_data = scaler.transform(data_ML_umap)\n",
    "scaled_data= pd.DataFrame(scaled_data)\n",
    "scaled_data.head()"
   ]
  },
  {
   "cell_type": "code",
   "execution_count": 48,
   "id": "8479fa61",
   "metadata": {},
   "outputs": [],
   "source": [
    "kproto = KPrototypes(n_clusters=9, init='Cao')\n",
    "clusters = kproto.fit_predict(data_ML_clusters, categorical=[12,13,14])"
   ]
  },
  {
   "cell_type": "markdown",
   "id": "5af561be",
   "metadata": {},
   "source": [
    "###  Reducing the dimensions of the data, using umap"
   ]
  },
  {
   "cell_type": "code",
   "execution_count": 49,
   "id": "bf59883a",
   "metadata": {},
   "outputs": [
    {
     "data": {
      "image/png": "[encoded data removed]",
      "text/plain": [
       "<Figure size 360x360 with 1 Axes>"
      ]
     },
     "metadata": {
      "needs_background": "light"
     },
     "output_type": "display_data"
    }
   ],
   "source": [
    "# Constructing a UMAP object that will do the job for us\n",
    "reducer = umap.UMAP()\n",
    "embedding = reducer.fit_transform(data_ML_umap)\n",
    "embedding.shape\n",
    "plt.scatter(embedding[:, 0], embedding[:, 1],c =clusters)\n",
    "plt.gca().set_aspect('equal', 'datalim')\n",
    "plt.title('UMAP projection of the AIRBNB dataset', fontsize=16)\n",
    "plt.show()"
   ]
  }
 ],
 "metadata": {
  "kernelspec": {
   "display_name": "Python 3",
   "language": "python",
   "name": "python3"
  },
  "language_info": {
   "codemirror_mode": {
    "name": "ipython",
    "version": 3
   },
   "file_extension": ".py",
   "mimetype": "text/x-python",
   "name": "python",
   "nbconvert_exporter": "python",
   "pygments_lexer": "ipython3",
   "version": "3.8.8"
  }
 },
 "nbformat": 4,
 "nbformat_minor": 5
}
